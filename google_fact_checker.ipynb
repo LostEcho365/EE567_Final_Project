{
  "nbformat": 4,
  "nbformat_minor": 0,
  "metadata": {
    "colab": {
      "provenance": []
    },
    "kernelspec": {
      "name": "python3",
      "display_name": "Python 3"
    },
    "language_info": {
      "name": "python"
    }
  },
  "cells": [
    {
      "cell_type": "code",
      "source": [
        "pip install requests"
      ],
      "metadata": {
        "colab": {
          "base_uri": "https://localhost:8080/"
        },
        "id": "y0OOo33sLfAF",
        "outputId": "ecaa7c91-60b5-4851-a7e1-6a2f53ba0ecf"
      },
      "execution_count": null,
      "outputs": [
        {
          "output_type": "stream",
          "name": "stdout",
          "text": [
            "Requirement already satisfied: requests in /usr/local/lib/python3.10/dist-packages (2.31.0)\n",
            "Requirement already satisfied: charset-normalizer<4,>=2 in /usr/local/lib/python3.10/dist-packages (from requests) (3.3.2)\n",
            "Requirement already satisfied: idna<4,>=2.5 in /usr/local/lib/python3.10/dist-packages (from requests) (3.6)\n",
            "Requirement already satisfied: urllib3<3,>=1.21.1 in /usr/local/lib/python3.10/dist-packages (from requests) (2.0.7)\n",
            "Requirement already satisfied: certifi>=2017.4.17 in /usr/local/lib/python3.10/dist-packages (from requests) (2024.2.2)\n"
          ]
        }
      ]
    },
    {
      "cell_type": "code",
      "execution_count": null,
      "metadata": {
        "id": "xNzMktVsLVDp"
      },
      "outputs": [],
      "source": [
        "API_KEY = \"<insert_your_api_key>\""
      ]
    },
    {
      "cell_type": "code",
      "source": [
        "import requests\n",
        "import json\n",
        "\n",
        "def query_fact_check_api(claim):\n",
        "    \"\"\"Queries the Google Fact Check Tools API for a given claim.\n",
        "\n",
        "    Args:\n",
        "        claim (str): The claim to search for fact checks.\n",
        "\n",
        "    Returns:\n",
        "        dict: The API response parsed as a JSON object.\n",
        "    \"\"\"\n",
        "\n",
        "    url = \"https://factchecktools.googleapis.com/v1alpha1/claims:search\"\n",
        "    params = {\n",
        "        \"key\": API_KEY,\n",
        "        \"query\": claim,\n",
        "    }\n",
        "\n",
        "    response = requests.get(url, params=params)\n",
        "    response.raise_for_status()  # Raise an exception for error HTTP statuses\n",
        "\n",
        "    return response.json()\n",
        "\n",
        "# if __name__ == \"__main__\":\n",
        "#     claim_to_check = \"The Earth is flat\"  # Example claim\n",
        "#     result = query_fact_check_api(claim_to_check)\n",
        "\n",
        "#     if result.get(\"claims\"):\n",
        "#         for claim in result[\"claims\"]:\n",
        "#             print(\"Claim:\", claim[\"text\"])\n",
        "#             print(\"Fact Check Results:\")\n",
        "#             for review in claim[\"claimReview\"]:\n",
        "#                 print(f\"\\tPublisher: {review['publisher']['name']}\")\n",
        "#                 print(f\"\\tURL: {review['url']}\")\n",
        "#                 print(f\"\\tRating: {review['textualRating']}\\n\")\n",
        "#     else:\n",
        "#         print(\"No fact checks found for this claim.\")\n"
      ],
      "metadata": {
        "id": "fMPHTU0MLnpA"
      },
      "execution_count": null,
      "outputs": []
    },
    {
      "cell_type": "code",
      "source": [
        "# Example Usage\n",
        "\n",
        "claim_to_check = \"The Earth is round\"\n",
        "result = query_fact_check_api(claim_to_check)\n",
        "\n",
        "if result.get(\"claims\"):\n",
        "    for claim in result[\"claims\"]:\n",
        "        print(\"Claim:\", claim[\"text\"])\n",
        "        print(\"Fact Check Results:\")\n",
        "        for review in claim[\"claimReview\"]:\n",
        "            print(f\"\\tPublisher: {review['publisher']['name']}\")\n",
        "            print(f\"\\tURL: {review['url']}\")\n",
        "            print(f\"\\tRating: {review['textualRating']}\\n\")\n",
        "else:\n",
        "    print(\"No fact checks found for this claim.\")"
      ],
      "metadata": {
        "colab": {
          "base_uri": "https://localhost:8080/"
        },
        "id": "APY9-7wpTcoo",
        "outputId": "7dee6f3b-e2cd-4b1a-e51f-cfaa5c0f94c5"
      },
      "execution_count": null,
      "outputs": [
        {
          "output_type": "stream",
          "name": "stdout",
          "text": [
            "Claim: Pictures show the Earth is flat, and sea levels haven’t changed\n",
            "Fact Check Results:\n",
            "\tPublisher: USA Today\n",
            "\tURL: https://www.usatoday.com/story/news/factcheck/2023/08/07/false-claim-the-earth-is-flat-and-sea-levels-arent-rising-fact-check/70533704007/\n",
            "\tRating: False\n",
            "\n",
            "Claim: The Earth is flat.\n",
            "Fact Check Results:\n",
            "\tPublisher: Full Fact\n",
            "\tURL: https://fullfact.org/online/earth-is-spherical-not-flat/\n",
            "\tRating: We have abundant evidence going back thousands of years that the Earth is roughly spherical.\n",
            "\n",
            "Claim: Satellites are fake.\n",
            "Fact Check Results:\n",
            "\tPublisher: Full Fact\n",
            "\tURL: https://fullfact.org/online/earth-is-spherical-not-flat/\n",
            "\tRating: There are many man-made satellites currently in orbit, playing an essential role in common electronic devices.\n",
            "\n",
            "Claim: Radar technology wouldn’t work if the Earth was a globe\n",
            "Fact Check Results:\n",
            "\tPublisher: USA Today\n",
            "\tURL: https://www.usatoday.com/story/news/factcheck/2023/05/08/no-radar-technology-doesnt-prove-earth-is-flat-fact-check/11728472002/\n",
            "\tRating: False\n",
            "\n",
            "Claim: Earth isn't curved and doesn't rotate\n",
            "Fact Check Results:\n",
            "\tPublisher: USA Today\n",
            "\tURL: https://www.usatoday.com/story/news/factcheck/2022/11/17/fact-check-ample-evidence-earth-round-and-rotating/8267678001/\n",
            "\tRating: False\n",
            "\n",
            "Claim: Image of Chicago skyline taken in Indiana proves Earth is flat\n",
            "Fact Check Results:\n",
            "\tPublisher: USA Today\n",
            "\tURL: https://www.usatoday.com/story/news/factcheck/2022/12/05/fact-check-image-chicago-skyline-proves-earth-round-not-flat/10664681002/\n",
            "\tRating: False\n",
            "\n",
            "Claim: NASA admits the Earth is flat and non-rotating\n",
            "Fact Check Results:\n",
            "\tPublisher: USA Today\n",
            "\tURL: https://www.usatoday.com/story/news/factcheck/2023/01/10/fact-check-nasa-says-earth-globe-reports-dont-prove-otherwise/10881711002/\n",
            "\tRating: False\n",
            "\n",
            "Claim: Elon Musk tweeted, “The world is flat.”\n",
            "Fact Check Results:\n",
            "\tPublisher: PolitiFact\n",
            "\tURL: https://www.politifact.com/factchecks/2023/mar/13/viral-image/earth-is-round-and-elon-musk-didnt-say-it-was-flat/\n",
            "\tRating: False\n",
            "\n",
            "Claim: First photo of the Earth's curvature was taken on April Fools' Day, 1960.\n",
            "Fact Check Results:\n",
            "\tPublisher: USA Today\n",
            "\tURL: https://www.usatoday.com/story/news/factcheck/2023/03/27/fact-check-earths-curvature-first-imaged-1935-contrary-post/11535820002/\n",
            "\tRating: False\n",
            "\n",
            "Claim: Earth not curved or moving; air pressure couldn't exist without a container\n",
            "Fact Check Results:\n",
            "\tPublisher: USA Today\n",
            "\tURL: https://www.usatoday.com/story/news/factcheck/2022/11/28/fact-check-earth-curve-motion-detectable-air-pressure-gravity/8296016001/\n",
            "\tRating: False\n",
            "\n"
          ]
        }
      ]
    },
    {
      "cell_type": "code",
      "source": [
        "# Another Example\n",
        "result = query_fact_check_api(\"The earth is flat\")\n",
        "print(result)"
      ],
      "metadata": {
        "colab": {
          "base_uri": "https://localhost:8080/"
        },
        "id": "Usr3xsjiLt_D",
        "outputId": "57fbfa08-2f6c-45a0-b176-318beb779869"
      },
      "execution_count": null,
      "outputs": [
        {
          "output_type": "stream",
          "name": "stdout",
          "text": [
            "{'claims': [{'text': 'The Earth is flat.', 'claimant': 'instagram user', 'claimDate': '2023-02-12T00:00:00Z', 'claimReview': [{'publisher': {'name': 'Full Fact', 'site': 'fullfact.org'}, 'url': 'https://fullfact.org/online/earth-is-spherical-not-flat/', 'title': 'The Earth is not flat', 'reviewDate': '2023-03-03T00:00:00Z', 'textualRating': 'We have abundant evidence going back thousands of years that the Earth is roughly spherical.', 'languageCode': 'en'}]}, {'text': 'Satellites are fake.', 'claimant': 'instagram user', 'claimDate': '2023-02-12T00:00:00Z', 'claimReview': [{'publisher': {'name': 'Full Fact', 'site': 'fullfact.org'}, 'url': 'https://fullfact.org/online/earth-is-spherical-not-flat/', 'title': 'The Earth is not flat', 'reviewDate': '2023-03-03T00:00:00Z', 'textualRating': 'There are many man-made satellites currently in orbit, playing an essential role in common electronic devices.', 'languageCode': 'en'}]}, {'text': 'Pictures show the Earth is flat, and sea levels haven’t changed', 'claimant': 'Social media', 'claimDate': '2023-07-31T00:00:00Z', 'claimReview': [{'publisher': {'name': 'USA Today', 'site': 'usatoday.com'}, 'url': 'https://www.usatoday.com/story/news/factcheck/2023/08/07/false-claim-the-earth-is-flat-and-sea-levels-arent-rising-fact-check/70533704007/', 'title': 'Pictures mislead: Ample evidence the Earth is round and sea levels ...', 'reviewDate': '2023-08-07T21:38:36Z', 'textualRating': 'False', 'languageCode': 'en'}]}, {'text': 'Radar technology wouldn’t work if the Earth was a globe', 'claimant': 'Social media', 'claimDate': '2023-04-20T00:00:00Z', 'claimReview': [{'publisher': {'name': 'USA Today', 'site': 'usatoday.com'}, 'url': 'https://www.usatoday.com/story/news/factcheck/2023/05/08/no-radar-technology-doesnt-prove-earth-is-flat-fact-check/11728472002/', 'title': \"No, radar technology doesn't prove Earth is flat | Fact check\", 'reviewDate': '2023-05-08T23:13:06Z', 'textualRating': 'False', 'languageCode': 'en'}]}, {'text': 'Image of Chicago skyline taken in Indiana proves Earth is flat', 'claimant': 'Social media', 'claimDate': '2022-11-06T00:00:00Z', 'claimReview': [{'publisher': {'name': 'USA Today', 'site': 'usatoday.com'}, 'url': 'https://www.usatoday.com/story/news/factcheck/2022/12/05/fact-check-image-chicago-skyline-proves-earth-round-not-flat/10664681002/', 'title': 'Fact check: Photo of the Chicago skyline from Indiana proves the ...', 'reviewDate': '2022-12-05T21:05:48Z', 'textualRating': 'False', 'languageCode': 'en'}]}, {'text': 'Antarctica is an ice wall that surrounds the flat Earth', 'claimant': 'social media', 'claimDate': '2022-10-29T00:00:00Z', 'claimReview': [{'publisher': {'name': 'USA Today', 'site': 'usatoday.com'}, 'url': 'https://www.usatoday.com/story/news/factcheck/2022/11/16/fact-check-antarctica-continent-not-ice-wall-flat-earth/8305230001/', 'title': \"Fact check: Antarctica is a continent, not an 'ice wall' around a flat ...\", 'reviewDate': '2022-11-16T19:59:36Z', 'textualRating': 'False', 'languageCode': 'en'}]}, {'text': 'The Earth is flat because cities cannot be upside-down', 'claimant': 'Social media', 'claimDate': '2022-11-22T00:00:00Z', 'claimReview': [{'publisher': {'name': 'USA Today', 'site': 'usatoday.com'}, 'url': 'https://www.usatoday.com/story/news/factcheck/2022/12/13/fact-check-gravity-pulls-objects-toward-center-earth/10840434002/', 'title': 'Fact check: Gravity pulls objects toward the center of the Earth', 'reviewDate': '2022-12-13T21:25:17Z', 'textualRating': 'False', 'languageCode': 'en'}]}, {'text': 'Video shows Elon Musk admitting he is a flat earther', 'claimant': 'Social media', 'claimDate': '2023-04-22T00:00:00Z', 'claimReview': [{'publisher': {'name': 'USA Today', 'site': 'usatoday.com'}, 'url': 'https://www.usatoday.com/story/news/factcheck/2023/04/28/fact-check-video-elon-musk-discussing-flat-earth-theory-altered/11728406002/', 'title': 'Fact check: Video of Elon Musk discussing flat Earth theory is altered', 'reviewDate': '2023-04-28T13:59:26Z', 'textualRating': 'Altered', 'languageCode': 'en'}]}, {'text': 'Moon visible in the daytime proves Earth is flat', 'claimant': 'Social media', 'claimDate': '2023-01-03T00:00:00Z', 'claimReview': [{'publisher': {'name': 'USA Today', 'site': 'usatoday.com'}, 'url': 'https://www.usatoday.com/story/news/factcheck/2023/01/13/fact-check-false-claim-moon-visible-during-day-proof-flat-earth/11022360002/', 'title': 'Fact check: False claim moon visible during daytime is proof of flat ...', 'reviewDate': '2023-01-13T21:54:51Z', 'textualRating': 'False', 'languageCode': 'en'}]}, {'text': 'Laser tests show bodies of water are level, which proves the Earth is flat', 'claimant': 'Social media', 'claimDate': '2022-11-27T00:00:00Z', 'claimReview': [{'publisher': {'name': 'USA Today', 'site': 'usatoday.com'}, 'url': 'https://www.usatoday.com/story/news/factcheck/2022/12/07/fact-check-false-claim-laser-tests-prove-earth-flat/10821382002/', 'title': 'Fact check: False claim laser tests prove Earth is flat', 'reviewDate': '2022-12-07T21:53:01Z', 'textualRating': 'False', 'languageCode': 'en'}]}], 'nextPageToken': 'CAo'}\n"
          ]
        }
      ]
    },
    {
      "cell_type": "code",
      "source": [
        "def calculate_average_true_percentages(claims, doPrint=False):\n",
        "    \"\"\"Calculates average 'True' rating percentages for a list of claims.\n",
        "\n",
        "    Args:\n",
        "        claims (list): A list of claims to check.\n",
        "\n",
        "    Returns:\n",
        "        list: A list of average 'True' rating percentages corresponding to each claim.\n",
        "    \"\"\"\n",
        "\n",
        "    if doPrint:\n",
        "        def debug_print(format, *values):\n",
        "            print(format.format(*values))\n",
        "    else:\n",
        "        def debug_print(format, *values): pass\n",
        "\n",
        "    percentages = []\n",
        "    raw_values = []\n",
        "\n",
        "    for claim in claims:\n",
        "        result = query_fact_check_api(claim)\n",
        "\n",
        "        debug_print(f\"Evaluating claim: '{claim}'\")\n",
        "\n",
        "        total_ratings = 0\n",
        "        true_count = 0\n",
        "        false_count = 0\n",
        "        unknown_count = 0\n",
        "        if result.get(\"claims\"):\n",
        "            for claim in result[\"claims\"]:\n",
        "                for review in claim[\"claimReview\"]:\n",
        "                    total_ratings += 1\n",
        "                    debug_print(f\"\\trating: {review['textualRating']}\")\n",
        "                    if review['textualRating'] == \"True\":\n",
        "                        true_count += 1\n",
        "                        debug_print(\"\\ttrue\")\n",
        "                    elif review['textualRating'] == \"False\":\n",
        "                        debug_print(\"\\tfalse\")\n",
        "                        false_count += 1\n",
        "                    else:\n",
        "                        debug_print(\"\\tunknown\")\n",
        "                        unknown_count += 1\n",
        "\n",
        "            if total_ratings > 0:\n",
        "                average_true_percentage = (true_count / (true_count + false_count)) * 100\n",
        "                percentages.append(average_true_percentage)\n",
        "            else:\n",
        "                debug_print(\"\\tNo Ratings\")\n",
        "                percentages.append(None)  # No ratings\n",
        "        else:\n",
        "            debug_print(\"\\tNo Ratings/Failed Query\")\n",
        "            percentages.append(None)  # No fact checks found\n",
        "        raw_values.append((true_count, false_count, unknown_count))\n",
        "\n",
        "    return percentages, raw_values"
      ],
      "metadata": {
        "id": "7A-9rt30MuIt"
      },
      "execution_count": null,
      "outputs": []
    },
    {
      "cell_type": "code",
      "source": [
        "    claims_list = [\"The Earth is flat\", \"Vaccines cause autism\", \"Moon landing was a hoax\", \"The Earth is round\", \"Europe is a continent\", \"NASA has not found aliens\"]\n",
        "    claims_answers = [False, False, False, True, True, True]\n",
        "    assert len(claims_answers) == len(claims_list)\n",
        "\n",
        "    results, raw_counts = calculate_average_true_percentages(claims_list, True)\n"
      ],
      "metadata": {
        "colab": {
          "base_uri": "https://localhost:8080/"
        },
        "id": "PAWEZJSMOHj8",
        "outputId": "ac97632c-477e-4257-bb21-39728136afe8"
      },
      "execution_count": null,
      "outputs": [
        {
          "output_type": "stream",
          "name": "stdout",
          "text": [
            "Evaluating claim: 'The Earth is flat'\n",
            "\trating: We have abundant evidence going back thousands of years that the Earth is roughly spherical.\n",
            "\tunknown\n",
            "\trating: There are many man-made satellites currently in orbit, playing an essential role in common electronic devices.\n",
            "\tunknown\n",
            "\trating: False\n",
            "\tfalse\n",
            "\trating: False\n",
            "\tfalse\n",
            "\trating: False\n",
            "\tfalse\n",
            "\trating: False\n",
            "\tfalse\n",
            "\trating: False\n",
            "\tfalse\n",
            "\trating: False\n",
            "\tfalse\n",
            "\trating: Altered\n",
            "\tunknown\n",
            "\trating: False\n",
            "\tfalse\n",
            "Evaluating claim: 'Vaccines cause autism'\n",
            "\trating: False\n",
            "\tfalse\n",
            "\trating: Unsupported\n",
            "\tunknown\n",
            "\trating: False\n",
            "\tfalse\n",
            "\trating: False\n",
            "\tfalse\n",
            "\trating: Incorrect\n",
            "\tunknown\n",
            "\trating: Incorrect\n",
            "\tunknown\n",
            "\trating: Misleading\n",
            "\tunknown\n",
            "\trating: False. Studies show there is no notable difference in autism rates between vaccinated and unvaccinated children.\n",
            "\tunknown\n",
            "\trating: Incorrect\n",
            "\tunknown\n",
            "\trating: Incorrect\n",
            "\tunknown\n",
            "Evaluating claim: 'Moon landing was a hoax'\n",
            "\trating: False\n",
            "\tfalse\n",
            "\trating: False. The initial images used by newspapers were taken from the live footage beamed around the world during the landing.\n",
            "\tunknown\n",
            "\trating: False\n",
            "\tfalse\n",
            "\trating: False\n",
            "\tfalse\n",
            "\trating: Missing Context\n",
            "\tunknown\n",
            "\trating: False\n",
            "\tfalse\n",
            "\trating: False\n",
            "\tfalse\n",
            "\trating: False\n",
            "\tfalse\n",
            "\trating: False\n",
            "\tfalse\n",
            "\trating: There is no evidence Mr Aldrin has ever directly admitted this. The three clips used as evidence for this claim have all been taken out of context.\n",
            "\tunknown\n",
            "Evaluating claim: 'The Earth is round'\n",
            "\trating: We have abundant evidence going back thousands of years that the Earth is roughly spherical.\n",
            "\tunknown\n",
            "\trating: There are many man-made satellites currently in orbit, playing an essential role in common electronic devices.\n",
            "\tunknown\n",
            "\trating: False\n",
            "\tfalse\n",
            "\trating: False\n",
            "\tfalse\n",
            "\trating: False\n",
            "\tfalse\n",
            "\trating: False\n",
            "\tfalse\n",
            "\trating: False\n",
            "\tfalse\n",
            "\trating: False\n",
            "\tfalse\n",
            "\trating: False\n",
            "\tfalse\n",
            "\trating: False\n",
            "\tfalse\n",
            "Evaluating claim: 'Europe is a continent'\n",
            "\tNo Ratings/Failed Query\n",
            "Evaluating claim: 'NASA has not found aliens'\n",
            "\trating: False\n",
            "\tfalse\n"
          ]
        }
      ]
    },
    {
      "cell_type": "code",
      "source": [
        "for claim, percentage, raw_count in zip(claims_list, results, raw_counts):\n",
        "    if percentage is not None:\n",
        "        rating = \"Real\" if percentage > 0.5 else \"Fake\"\n",
        "        print(f\"Claim: {claim}\\n\\tRating: {rating}\\n\\tPercentage Real: {percentage:.2f}%\\n\\tNumber of Unknown Ratings: {raw_count[2]}\")\n",
        "    else:\n",
        "        print(f\"Claim: {claim}\\n\\tNo fact checks found\")"
      ],
      "metadata": {
        "colab": {
          "base_uri": "https://localhost:8080/"
        },
        "id": "8tg069M1PJom",
        "outputId": "d071cef1-d7cf-458c-eed5-20ed8404f1b9"
      },
      "execution_count": null,
      "outputs": [
        {
          "output_type": "stream",
          "name": "stdout",
          "text": [
            "Claim: The Earth is flat\n",
            "\tRating: Fake\n",
            "\tPercentage Real: 0.00%\n",
            "\tNumber of Unknown Ratings: 3\n",
            "Claim: Vaccines cause autism\n",
            "\tRating: Fake\n",
            "\tPercentage Real: 0.00%\n",
            "\tNumber of Unknown Ratings: 7\n",
            "Claim: Moon landing was a hoax\n",
            "\tRating: Fake\n",
            "\tPercentage Real: 0.00%\n",
            "\tNumber of Unknown Ratings: 3\n",
            "Claim: The Earth is round\n",
            "\tRating: Fake\n",
            "\tPercentage Real: 0.00%\n",
            "\tNumber of Unknown Ratings: 2\n",
            "Claim: Europe is a continent\n",
            "\tNo fact checks found\n",
            "Claim: NASA has not found aliens\n",
            "\tRating: Fake\n",
            "\tPercentage Real: 0.00%\n",
            "\tNumber of Unknown Ratings: 0\n"
          ]
        }
      ]
    },
    {
      "cell_type": "code",
      "source": [
        "# Evaluation\n",
        "def evaluate(claims_list, results, raw_counts, claims_answers):\n",
        "    n_incorrect = 0\n",
        "    n_correct = 0\n",
        "    n_unknown_evals = 0 # The review for the claims didn't contain \"True\" or \"False\" so we couldn't determine the evaluation\n",
        "    n_no_evals = 0 # Google had no reviews for the claim\n",
        "\n",
        "    for claim, percentage, raw_count, answer in zip(claims_list, results, raw_counts, claims_answers):\n",
        "        guess = False\n",
        "        if percentage is None:\n",
        "          n_no_evals += 1\n",
        "          print(f\"[FAILED]!; Could not produce an evaluation;\\t\\t\\tclaim='{claim}'\")\n",
        "          continue\n",
        "        elif percentage > 0.5:\n",
        "          guess = True\n",
        "\n",
        "        n_unknown_evals += raw_count[2]\n",
        "\n",
        "        if guess == answer:\n",
        "            n_correct += 1\n",
        "            print(f\"[OKAY]  !; nTrueEvals={raw_count[0]}; nFalseEvals={raw_count[1]}; nUnknownEvals={raw_count[2]};\\tclaim='{claim}\")\n",
        "        else:\n",
        "            n_incorrect += 1\n",
        "            print(f\"[FAILED]!; nTrueEvals={raw_count[0]}; nFalseEvals={raw_count[1]}; nUnknownEvals={raw_count[2]};\\tclaim='{claim}\")\n",
        "\n",
        "    if (n_correct+n_incorrect) == 0:\n",
        "      print(f\"All evaluations failed!\")\n",
        "    else:\n",
        "      print(f\"\\n\\nOverall success rate is {round(n_correct/(n_correct+n_incorrect)*100)}%\")\n",
        "      print(f\"Number of unknown evaluations for all claims combined: {n_unknown_evals} which is {round(n_unknown_evals/(n_correct+n_incorrect)*100)}% of all evals (successful or unknown; this number should be as small as possible) \\| (means we didn't know if the evaluation was true or false)\")\n",
        "\n",
        "    print(f\"n_correct={n_correct}; n_incorrect={n_incorrect}; total successful evaluations: {n_correct+n_incorrect}\")\n",
        "    print(f\"Number of claims we couldn't evaluate: {n_no_evals}\")"
      ],
      "metadata": {
        "id": "lU1JG2EuYc37"
      },
      "execution_count": null,
      "outputs": []
    },
    {
      "cell_type": "code",
      "source": [
        "evaluate(claims_list, results, raw_counts, claims_answers)"
      ],
      "metadata": {
        "colab": {
          "base_uri": "https://localhost:8080/"
        },
        "id": "z8be0hJDfP7_",
        "outputId": "8500ab93-6a45-458e-9605-dbbe85b7d6cb"
      },
      "execution_count": null,
      "outputs": [
        {
          "output_type": "stream",
          "name": "stdout",
          "text": [
            "[OKAY]  !; nTrueEvals=0; nFalseEvals=7; nUnknownEvals=3;\tclaim='The Earth is flat\n",
            "[OKAY]  !; nTrueEvals=0; nFalseEvals=3; nUnknownEvals=7;\tclaim='Vaccines cause autism\n",
            "[OKAY]  !; nTrueEvals=0; nFalseEvals=7; nUnknownEvals=3;\tclaim='Moon landing was a hoax\n",
            "[FAILED]!; nTrueEvals=0; nFalseEvals=8; nUnknownEvals=2;\tclaim='The Earth is round\n",
            "[FAILED]!; Could not produce an evaluation;\t\t\tclaim='Europe is a continent\n",
            "[FAILED]!; nTrueEvals=0; nFalseEvals=1; nUnknownEvals=0;\tclaim='NASA has not found aliens\n",
            "\n",
            "\n",
            "Overall success rate is 60%\n",
            "Number of unknown evaluations for all claims combined: 15 which is 300% of all evals (successful or unknown; this number should be as small as possible) \\| (means we didn't know if the evaluation was true or false)\n",
            "n_correct=3; n_incorrect=2; total successful evaluations: 5\n",
            "Number of claims we couldn't evaluate: 1\n"
          ]
        }
      ]
    },
    {
      "cell_type": "markdown",
      "source": [
        "## Evaluation!\n",
        "\n",
        "Load the/a dataset first"
      ],
      "metadata": {
        "id": "TEl1jG8Ee1Ql"
      }
    },
    {
      "cell_type": "code",
      "source": [
        "!unzip fake_news_detection_dataset.zip\n",
        "\n",
        "import pandas as pd\n",
        "import re"
      ],
      "metadata": {
        "colab": {
          "base_uri": "https://localhost:8080/"
        },
        "id": "LJOfFmPpgpiH",
        "outputId": "b815edfe-7034-483f-dc0c-9a5dbd43dc8e"
      },
      "execution_count": null,
      "outputs": [
        {
          "output_type": "stream",
          "name": "stdout",
          "text": [
            "Archive:  fake_news_detection_dataset.zip\n",
            "  inflating: News _dataset/Fake.csv  \n",
            "  inflating: News _dataset/True.csv  \n"
          ]
        }
      ]
    },
    {
      "cell_type": "code",
      "source": [
        "# ------------------------\n",
        "#  Configuration\n",
        "# ------------------------\n",
        "dataset_path_fake = \"News _dataset/Fake.csv\"\n",
        "dataset_path_real = \"News _dataset/True.csv\"\n",
        "\n",
        "# ------------------------\n",
        "# Load and Preprocess Dataset\n",
        "# ------------------------\n",
        "df_real = pd.read_csv(dataset_path_real)\n",
        "df_fake = pd.read_csv(dataset_path_fake)\n",
        "\n",
        "# ------------------------\n",
        "# Create the 'is fake or real' column\n",
        "# ------------------------\n",
        "df_real['news_type'] = '1'\n",
        "df_fake['news_type'] = '0'\n",
        "\n",
        "# ------------------------\n",
        "# Combine the dataframes into one and shuffle it\n",
        "# ------------------------\n",
        "df_real_and_fake = pd.concat([df_real, df_fake], ignore_index=True)\n",
        "df_real_and_fake = df_real_and_fake.sample(frac = 1)\n",
        "\n",
        "# ------------------------\n",
        "# Cleanup function if desired\n",
        "# ------------------------\n",
        "# Basic text cleaning for classifier\n",
        "def clean_text(text):\n",
        "    # text = text.lower()  # Convert to lowercase\n",
        "    # Add more cleaning steps if needed (removing punctuation, etc.)\n",
        "    # In this case, remove all characters whitch are not alphanumeric\n",
        "    text = re.sub(\"[^A-Za-z0-9 ]\",\" \",text)\n",
        "    return text\n",
        "\n",
        "# ------------------------\n",
        "# Clean the titles\n",
        "# ------------------------\n",
        "df_real_and_fake['cleaned_title'] = df_real_and_fake['title'].apply(clean_text)\n",
        "\n",
        "# ------------------------\n",
        "# Reduce the dataset size for testing models\n",
        "# ------------------------\n",
        "REDUCED_SIZE = 100\n",
        "\n",
        "fraction = REDUCED_SIZE / df_real_and_fake.size\n",
        "\n",
        "# Sample to new size\n",
        "df_real_and_fake_reduced = df_real_and_fake.sample(frac=fraction)\n",
        "# Shuffle\n",
        "df_real_and_fake = df_real_and_fake.sample(frac=1)\n",
        "\n",
        "print(f\"Used fraction=={fraction}; New number of dataframe items: {df_real_and_fake_reduced.size}\")\n",
        "\n",
        "df_real_and_fake_reduced.head()\n",
        "\n",
        "# ------------------------\n",
        "# Create tuple of cleaned titles and is real/fake\n",
        "# ------------------------\n",
        "titles_to_analyze = df_real_and_fake_reduced[\"cleaned_title\"].tolist()  # Extract titles\n",
        "titles_isReal = df_real_and_fake_reduced[\"news_type\"].tolist()  # Extract 0 and 1 (fake and real) information\n",
        "titles_isReal = [ bool(int(i)) for i in titles_isReal ] # Convert 0 to False and 1 to True\n",
        "\n",
        "assert len(titles_isReal) == len(titles_to_analyze)\n",
        "\n",
        "# # Create a list of tuple values in the form [(title1, True), (title2, False)]\n",
        "# dataset = []\n",
        "# for title, answer in zip(titles_to_analyze, titles_isReal):\n",
        "#   dataset.append((title, answer))\n",
        "\n",
        "# assert len(dataset) == len(titles_to_analyze)\n"
      ],
      "metadata": {
        "colab": {
          "base_uri": "https://localhost:8080/"
        },
        "id": "oHae3O4pe4SH",
        "outputId": "760b36bd-b4da-46f7-ebdb-d07a5ab73354"
      },
      "execution_count": null,
      "outputs": [
        {
          "output_type": "stream",
          "name": "stdout",
          "text": [
            "Used fraction==0.0003712117837468633; New number of dataframe items: 102\n"
          ]
        }
      ]
    },
    {
      "cell_type": "code",
      "source": [
        "for i, (t, e) in enumerate(zip(titles_to_analyze, titles_isReal)):\n",
        "  print(f\"isTrue={e};\\ttitle={t}\")\n",
        "  if i > 5:\n",
        "    break"
      ],
      "metadata": {
        "colab": {
          "base_uri": "https://localhost:8080/"
        },
        "id": "kVk7LewwjDIk",
        "outputId": "a14e3a77-0aef-45a7-d390-1a224576ae57"
      },
      "execution_count": null,
      "outputs": [
        {
          "output_type": "stream",
          "name": "stdout",
          "text": [
            "isTrue=False;\ttitle= Racist TX High Schoolers Spray Paint  Whites Only  Near Drinking Fountain  IMAGE \n",
            "isTrue=True;\ttitle=Vatican treasurer to face March court hearing in Australia over historical sex charges\n",
            "isTrue=False;\ttitle=HOW MEMPHIS TEEN DEFIED OBAMA S  Black Victim  Narrative Used Positive Attitude And Strong Work Ethic  Not Violence or Freebies To Make A Better Life  VIDEO \n",
            "isTrue=False;\ttitle= Whoopi Goldberg Gets PISSED  Gives Trump The Reality Check We ve All Been Waiting For  VIDEO \n",
            "isTrue=False;\ttitle= Read Gabby Giffords  Beautiful Letter In Solidarity With Democratic Sit In\n",
            "isTrue=False;\ttitle=Hillary s Secret Weapon  Evan McMullin is CIA Goldman Sachs candidate  backed by Mitt Romney s Wall Street Machine\n",
            "isTrue=False;\ttitle=White House Sinks To New Low  Spokesperson Makes Fun of Trump s  Outrageous Appearance  and Hair\n"
          ]
        }
      ]
    },
    {
      "cell_type": "markdown",
      "source": [
        "Do the evaluation"
      ],
      "metadata": {
        "id": "pm2o4TSie7xO"
      }
    },
    {
      "cell_type": "code",
      "source": [
        "claims_list = titles_to_analyze\n",
        "claims_answers = titles_isReal\n",
        "assert len(claims_answers) == len(claims_list)\n",
        "\n",
        "print(f\"Number of claims=={len(claims_list)}\")\n",
        "\n",
        "results, raw_counts = calculate_average_true_percentages(claims_list, True)\n",
        "\n",
        "print(\"\\n---------------------------------------------------------\\n\")\n",
        "\n",
        "evaluate(claims_list, results, raw_counts, claims_answers)\n"
      ],
      "metadata": {
        "colab": {
          "base_uri": "https://localhost:8080/"
        },
        "id": "MZjkQ1hwaEe9",
        "outputId": "02141d89-2dca-4527-8862-d71a2bb25748"
      },
      "execution_count": null,
      "outputs": [
        {
          "output_type": "stream",
          "name": "stdout",
          "text": [
            "Number of claims==17\n",
            "Evaluating claim: ' Racist TX High Schoolers Spray Paint  Whites Only  Near Drinking Fountain  IMAGE '\n",
            "\tNo Ratings/Failed Query\n",
            "Evaluating claim: 'Vatican treasurer to face March court hearing in Australia over historical sex charges'\n",
            "\tNo Ratings/Failed Query\n",
            "Evaluating claim: 'HOW MEMPHIS TEEN DEFIED OBAMA S  Black Victim  Narrative Used Positive Attitude And Strong Work Ethic  Not Violence or Freebies To Make A Better Life  VIDEO '\n",
            "\tNo Ratings/Failed Query\n",
            "Evaluating claim: ' Whoopi Goldberg Gets PISSED  Gives Trump The Reality Check We ve All Been Waiting For  VIDEO '\n",
            "\tNo Ratings/Failed Query\n",
            "Evaluating claim: ' Read Gabby Giffords  Beautiful Letter In Solidarity With Democratic Sit In'\n",
            "\tNo Ratings/Failed Query\n",
            "Evaluating claim: 'Hillary s Secret Weapon  Evan McMullin is CIA Goldman Sachs candidate  backed by Mitt Romney s Wall Street Machine'\n",
            "\tNo Ratings/Failed Query\n",
            "Evaluating claim: 'White House Sinks To New Low  Spokesperson Makes Fun of Trump s  Outrageous Appearance  and Hair'\n",
            "\tNo Ratings/Failed Query\n",
            "Evaluating claim: 'Somalia says it requested U S  air strike that killed 100 militants'\n",
            "\tNo Ratings/Failed Query\n",
            "Evaluating claim: 'BREAKING  LIBERAL HEADS WILL EXPLODE When They Find Out Which Cabinet Position Trump Just Offered This Badass Former TX Governor'\n",
            "\tNo Ratings/Failed Query\n",
            "Evaluating claim: ' Trump Trolls Turn On GOP Moderates   You re Gonna Get Primaried '\n",
            "\tNo Ratings/Failed Query\n",
            "Evaluating claim: ' WOW  Trump Jr  Just Offered To Ship Black People Out Of The Country And Pay For It  VIDEO '\n",
            "\tNo Ratings/Failed Query\n",
            "Evaluating claim: 'Hungarian PM Orban hails Trump victory as  great news '\n",
            "\tNo Ratings/Failed Query\n",
            "Evaluating claim: 'Fake  US embassy  Bust in Ghana Exposes Danger of EU Schengen Deal with Turkey'\n",
            "\tNo Ratings/Failed Query\n",
            "Evaluating claim: 'Putin  restriction on Russian media is attack on free speech'\n",
            "\tNo Ratings/Failed Query\n",
            "Evaluating claim: ' COMEDIAN  GEORGE LOPEZ Who Said About Trump Supporters   There Are Enough Racists In This Country To Get Him Elected  Goes On Vile Rant Against Woman Makes Racist Comments  VIDEO '\n",
            "\tNo Ratings/Failed Query\n",
            "Evaluating claim: 'Turkey turns off Kurdish Rudaw channel in wake of referendum'\n",
            "\tNo Ratings/Failed Query\n",
            "Evaluating claim: ' This List Proves Republicans Are Damned LIARS About Obama s Replacement For Scalia'\n",
            "\tNo Ratings/Failed Query\n",
            "\n",
            "---------------------------------------------------------\n",
            "\n",
            "[FAILED]!; Could not produce an evaluation;\t\t\tclaim=' Racist TX High Schoolers Spray Paint  Whites Only  Near Drinking Fountain  IMAGE \n",
            "[FAILED]!; Could not produce an evaluation;\t\t\tclaim='Vatican treasurer to face March court hearing in Australia over historical sex charges\n",
            "[FAILED]!; Could not produce an evaluation;\t\t\tclaim='HOW MEMPHIS TEEN DEFIED OBAMA S  Black Victim  Narrative Used Positive Attitude And Strong Work Ethic  Not Violence or Freebies To Make A Better Life  VIDEO \n",
            "[FAILED]!; Could not produce an evaluation;\t\t\tclaim=' Whoopi Goldberg Gets PISSED  Gives Trump The Reality Check We ve All Been Waiting For  VIDEO \n",
            "[FAILED]!; Could not produce an evaluation;\t\t\tclaim=' Read Gabby Giffords  Beautiful Letter In Solidarity With Democratic Sit In\n",
            "[FAILED]!; Could not produce an evaluation;\t\t\tclaim='Hillary s Secret Weapon  Evan McMullin is CIA Goldman Sachs candidate  backed by Mitt Romney s Wall Street Machine\n",
            "[FAILED]!; Could not produce an evaluation;\t\t\tclaim='White House Sinks To New Low  Spokesperson Makes Fun of Trump s  Outrageous Appearance  and Hair\n",
            "[FAILED]!; Could not produce an evaluation;\t\t\tclaim='Somalia says it requested U S  air strike that killed 100 militants\n",
            "[FAILED]!; Could not produce an evaluation;\t\t\tclaim='BREAKING  LIBERAL HEADS WILL EXPLODE When They Find Out Which Cabinet Position Trump Just Offered This Badass Former TX Governor\n",
            "[FAILED]!; Could not produce an evaluation;\t\t\tclaim=' Trump Trolls Turn On GOP Moderates   You re Gonna Get Primaried \n",
            "[FAILED]!; Could not produce an evaluation;\t\t\tclaim=' WOW  Trump Jr  Just Offered To Ship Black People Out Of The Country And Pay For It  VIDEO \n",
            "[FAILED]!; Could not produce an evaluation;\t\t\tclaim='Hungarian PM Orban hails Trump victory as  great news \n",
            "[FAILED]!; Could not produce an evaluation;\t\t\tclaim='Fake  US embassy  Bust in Ghana Exposes Danger of EU Schengen Deal with Turkey\n",
            "[FAILED]!; Could not produce an evaluation;\t\t\tclaim='Putin  restriction on Russian media is attack on free speech\n",
            "[FAILED]!; Could not produce an evaluation;\t\t\tclaim=' COMEDIAN  GEORGE LOPEZ Who Said About Trump Supporters   There Are Enough Racists In This Country To Get Him Elected  Goes On Vile Rant Against Woman Makes Racist Comments  VIDEO \n",
            "[FAILED]!; Could not produce an evaluation;\t\t\tclaim='Turkey turns off Kurdish Rudaw channel in wake of referendum\n",
            "[FAILED]!; Could not produce an evaluation;\t\t\tclaim=' This List Proves Republicans Are Damned LIARS About Obama s Replacement For Scalia\n",
            "All evaluations failed!\n",
            "n_correct=0; n_incorrect=0; total successful evaluations: 0\n",
            "Number of claims we couldn't evaluate: 17\n"
          ]
        }
      ]
    },
    {
      "cell_type": "code",
      "source": [],
      "metadata": {
        "id": "qXvkVpfGj2EJ"
      },
      "execution_count": null,
      "outputs": []
    }
  ]
}