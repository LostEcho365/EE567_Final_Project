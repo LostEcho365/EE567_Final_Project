{
  "nbformat": 4,
  "nbformat_minor": 0,
  "metadata": {
    "colab": {
      "provenance": []
    },
    "kernelspec": {
      "name": "python3",
      "display_name": "Python 3"
    },
    "language_info": {
      "name": "python"
    }
  },
  "cells": [
    {
      "cell_type": "code",
      "execution_count": null,
      "metadata": {
        "colab": {
          "base_uri": "https://localhost:8080/",
          "height": 1000
        },
        "id": "l6sOemm7r21K",
        "outputId": "b693fb7c-b585-4ba6-940f-b9a60b63f803"
      },
      "outputs": [
        {
          "output_type": "stream",
          "name": "stdout",
          "text": [
            "Top Search Results:\n",
            "===================\n",
            "1. title=\"\"\"Californias governor rejects a bill to give unemployment checks to striking workers\"\"\"\n"
          ]
        },
        {
          "output_type": "display_data",
          "data": {
            "text/plain": [
              "<IPython.core.display.Markdown object>"
            ],
            "text/markdown": "> * 'California won’t be giving unemployment checks to workers on strike. While state lawmakers passed a bill to make California the third state to do this, Democratic Gov.'\n"
          },
          "metadata": {}
        },
        {
          "output_type": "display_data",
          "data": {
            "text/plain": [
              "<IPython.core.display.Markdown object>"
            ],
            "text/markdown": "> * 'Democratic lawmakers have introduced a proposal that would allow workers who walk off the job to receive benefits.'\n"
          },
          "metadata": {}
        },
        {
          "output_type": "display_data",
          "data": {
            "text/plain": [
              "<IPython.core.display.Markdown object>"
            ],
            "text/markdown": "> * 'California Gov. Gavin Newsom has signed a law to increase the amount of minimum sick days for workers from three days to five.'\n"
          },
          "metadata": {}
        },
        {
          "output_type": "display_data",
          "data": {
            "text/plain": [
              "<IPython.core.display.Markdown object>"
            ],
            "text/markdown": "> * 'California lawmakers have voted to strengthen eviction protections for renters, closing an existing loophole allowing landlords to circumvent the state's rent cap.'\n"
          },
          "metadata": {}
        },
        {
          "output_type": "display_data",
          "data": {
            "text/plain": [
              "<IPython.core.display.Markdown object>"
            ],
            "text/markdown": "> * 'California Gov. Gavin Newsom often touts California's leadership on the national stage. Some speculate he may decide to run for national office one day.'\n"
          },
          "metadata": {}
        },
        {
          "output_type": "stream",
          "name": "stdout",
          "text": [
            "-----------------\n",
            "2. title=\"\"\"1,000 US troops deploying to build offshore port for Gaza aid\"\"\"\n"
          ]
        },
        {
          "output_type": "display_data",
          "data": {
            "text/plain": [
              "<IPython.core.display.Markdown object>"
            ],
            "text/markdown": "> * 'Cease-fire talks stall ahead of Ramadan, raising fears that Israel may launch a ground invasion into Rafah. U.S. attempts to surge aid by air and sea as vulnerable Gazans begin to die of starvation.'\n"
          },
          "metadata": {}
        },
        {
          "output_type": "display_data",
          "data": {
            "text/plain": [
              "<IPython.core.display.Markdown object>"
            ],
            "text/markdown": "> * 'A US Marine rapid response force is headed to the waters off the coast of Israel and the Pentagon is preparing American troops for a potential deployment to the country, escalating the US’ show of force in the region as it works to prevent the conflict between Israel and Hamas from widening any further.'\n"
          },
          "metadata": {}
        },
        {
          "output_type": "display_data",
          "data": {
            "text/plain": [
              "<IPython.core.display.Markdown object>"
            ],
            "text/markdown": "> * 'If confirmed, the deaths would underscore the difficulty of getting food to people facing severe hunger in the enclave. The U.S. said it had conducted another airdrop on Friday, but that all of that aid had landed on the ground safely.'\n"
          },
          "metadata": {}
        },
        {
          "output_type": "display_data",
          "data": {
            "text/plain": [
              "<IPython.core.display.Markdown object>"
            ],
            "text/markdown": "> * 'Forty years after the bombing that killed 241 U.S. troops in Beirut, the United States is again sending troops to the eastern Mediterranean as tension between Israel and Iran increases over the Israel-Hamas war.'\n"
          },
          "metadata": {}
        },
        {
          "output_type": "display_data",
          "data": {
            "text/plain": [
              "<IPython.core.display.Markdown object>"
            ],
            "text/markdown": "> * 'North Korea has been building up a ballistic missile arsenal on the stated premise that it needs to deter an attack on it by United States and South Korean forces.'\n"
          },
          "metadata": {}
        },
        {
          "output_type": "stream",
          "name": "stdout",
          "text": [
            "-----------------\n",
            "3. title=\"\"\"More than 2500 migrants crossing the Mediterranean died or went missing this year\"\"\"\n"
          ]
        },
        {
          "output_type": "display_data",
          "data": {
            "text/plain": [
              "<IPython.core.display.Markdown object>"
            ],
            "text/markdown": "> * 'More than 2,500 people have died this year, says UN, while 204,000 migrants and refugees have successfully crossed'\n"
          },
          "metadata": {}
        },
        {
          "output_type": "display_data",
          "data": {
            "text/plain": [
              "<IPython.core.display.Markdown object>"
            ],
            "text/markdown": "> * 'United Nations officials spoke out to criticize European countries for their response to the worsening migrant crisis across the region.'\n"
          },
          "metadata": {}
        },
        {
          "output_type": "display_data",
          "data": {
            "text/plain": [
              "<IPython.core.display.Markdown object>"
            ],
            "text/markdown": "> * 'More than 2,500 migrants have drowned in the Mediterranean while attempting to cross into Europe so far this year, the U.N. Refugee Agency says, with at least 880 drowning in the past week alone.'\n"
          },
          "metadata": {}
        },
        {
          "output_type": "display_data",
          "data": {
            "text/plain": [
              "<IPython.core.display.Markdown object>"
            ],
            "text/markdown": "> * 'The U.N. refugee agency says some 186,000 migrants and refugees arrived in southern Europe so far this year, the vast majority in Italy.'\n"
          },
          "metadata": {}
        },
        {
          "output_type": "display_data",
          "data": {
            "text/plain": [
              "<IPython.core.display.Markdown object>"
            ],
            "text/markdown": "> * 'Young boy found lying face-down on a beach near Turkish resort of Bodrum was one of at least 12 Syrians who drowned attempting to reach Greece• Warning: this article contains images that readers may find distressing'\n"
          },
          "metadata": {}
        },
        {
          "output_type": "stream",
          "name": "stdout",
          "text": [
            "-----------------\n",
            "4. title=\"\"\"Everything JK Rowling Would Be Willing To Do To Protect Her AntiTrans Views\"\"\"\n"
          ]
        },
        {
          "output_type": "display_data",
          "data": {
            "text/plain": [
              "<IPython.core.display.Markdown object>"
            ],
            "text/markdown": "> * 'The author says she isn't worried about how the backlash over her views will affect her legacy.'\n"
          },
          "metadata": {}
        },
        {
          "output_type": "display_data",
          "data": {
            "text/plain": [
              "<IPython.core.display.Markdown object>"
            ],
            "text/markdown": "> * 'Hogwarts Legacy looks like a totally immersive Harry Potter experience with a range of everything from taking classes to fighting wizards and goblins in combat with spell combos. Enter the JK Rowling problem.'\n"
          },
          "metadata": {}
        },
        {
          "output_type": "display_data",
          "data": {
            "text/plain": [
              "<IPython.core.display.Markdown object>"
            ],
            "text/markdown": "> * 'JK Rowling, author of the Harry Potter series, has become the most prominent face and voice in the world of anti-trans rhetoric, where she spends all day on Twitter sparring with critics and activists.'\n"
          },
          "metadata": {}
        },
        {
          "output_type": "display_data",
          "data": {
            "text/plain": [
              "<IPython.core.display.Markdown object>"
            ],
            "text/markdown": "> * 'David M. Perry explains why, as a longtime childhood reader of Roald Dahl, his heart sank when he saw Netflix had acquired Dahl’s catalog.'\n"
          },
          "metadata": {}
        },
        {
          "output_type": "display_data",
          "data": {
            "text/plain": [
              "<IPython.core.display.Markdown object>"
            ],
            "text/markdown": "> * 'The video game is the latest battleground over the “Harry Potter” author’s comments on transgender issues, with fans and gamers divided over whether they should play it at all.'\n"
          },
          "metadata": {}
        },
        {
          "output_type": "stream",
          "name": "stdout",
          "text": [
            "-----------------\n",
            "5. title=\"\"\"Pat McAfee thought USC coach Lincoln Riley died because of President Biden's State of the Union address\"\"\"\n"
          ]
        },
        {
          "output_type": "display_data",
          "data": {
            "text/plain": [
              "<IPython.core.display.Markdown object>"
            ],
            "text/markdown": "> * 'March 9, 2024 | New York Post'\n"
          },
          "metadata": {}
        },
        {
          "output_type": "display_data",
          "data": {
            "text/plain": [
              "<IPython.core.display.Markdown object>"
            ],
            "text/markdown": "> * 'March 7, 2024 | New York Post'\n"
          },
          "metadata": {}
        },
        {
          "output_type": "display_data",
          "data": {
            "text/plain": [
              "<IPython.core.display.Markdown object>"
            ],
            "text/markdown": "> * 'Wake up to the best sports story you'll hear all day. Monday to Friday, we bring you an inside look at the most interesting stories at ESPN, as told by the top reporters and insiders on the planet.'\n"
          },
          "metadata": {}
        },
        {
          "output_type": "display_data",
          "data": {
            "text/plain": [
              "<IPython.core.display.Markdown object>"
            ],
            "text/markdown": "> * 'September 13, 2023 | New York Post'\n"
          },
          "metadata": {}
        },
        {
          "output_type": "display_data",
          "data": {
            "text/plain": [
              "<IPython.core.display.Markdown object>"
            ],
            "text/markdown": "> * 'CNN Site Map (Articles) for March - 2021'\n"
          },
          "metadata": {}
        },
        {
          "output_type": "stream",
          "name": "stdout",
          "text": [
            "-----------------\n"
          ]
        }
      ],
      "source": [
        "from googleapiclient.discovery import build\n",
        "import pprint\n",
        "\n",
        "def google_search(search_term, api_key, cse_id, num_results=5):\n",
        "    \"\"\"Performs a Google Custom Search and returns titles of top results.\n",
        "\n",
        "    Args:\n",
        "        search_term: The search query.\n",
        "        api_key: Your Google API Key.\n",
        "        cse_id: Your Google Custom Search Engine ID.\n",
        "        num_results: The number of desired results (default: 5).\n",
        "\n",
        "    Returns:\n",
        "        A list of titles for the top search results.\n",
        "    \"\"\"\n",
        "\n",
        "    service = build(\"customsearch\", \"v1\", developerKey=api_key)\n",
        "    results = service.cse().list(\n",
        "        q=search_term,\n",
        "        cx=cse_id,\n",
        "        num=num_results  # Adjust the number of results as needed\n",
        "    ).execute()\n",
        "\n",
        "    search_result_titles = []\n",
        "    for item in results['items']:\n",
        "      # extended_title = item['title'] + item['snippet']\n",
        "      try:\n",
        "        # extended_title = item['pagemap']['metatags'][0]['og:description']\n",
        "        extended_title = \"> * '\" + item['pagemap']['metatags'][0]['og:description'] + \"'\\n\"\n",
        "      except:\n",
        "        # extended_title = item['title']\n",
        "        extended_title = \"> * '\" + item['title'] + \"'\\n\"\n",
        "\n",
        "\n",
        "      # pprint.pprint(f\"dah=={item['pagemap']['metatags'][0]['og:description']}\")\n",
        "      search_result_titles.append(extended_title)\n",
        "    # search_result_titles = [item['title'] for item in results['items']]\n",
        "    return search_result_titles\n",
        "\n",
        "# *** Setup: Replace with your API key and CSE ID ***\n",
        "my_api_key = \"<api_key>\"\n",
        "my_cse_id = \"<api_key2>\"\n",
        "\n",
        "# <script async src=\"https://cse.google.com/cse.js?cx=31e85635d41bd4040\">\n",
        "# </script>\n",
        "# <div class=\"gcse-search\"></div>\n",
        "\n",
        "\n",
        "# Example usage\n",
        "search_phrase1 = \"Californias governor rejects a bill to give unemployment checks to striking workers\" # True\n",
        "search_phrase2 = \"1,000 US troops deploying to build offshore port for Gaza aid\" # True\n",
        "search_phrase3 = \"More than 2500 migrants crossing the Mediterranean died or went missing this year\" # True\n",
        "search_phrase4 = \"Everything JK Rowling Would Be Willing To Do To Protect Her AntiTrans Views\" # False\n",
        "search_phrase5 = \"Pat McAfee thought USC coach Lincoln Riley died because of President Biden's State of the Union address\" # Unknown\n",
        "test_titles = [search_phrase1, search_phrase2, search_phrase3, search_phrase4, search_phrase5]\n",
        "\n",
        "from IPython.display import display, Markdown, Latex\n",
        "\n",
        "print(\"Top Search Results:\")\n",
        "print(\"===================\")\n",
        "for i, title in enumerate(test_titles):\n",
        "    top_results = google_search(title, my_api_key, my_cse_id)\n",
        "    print(f'{i+1}. title=\"\"\"{title}\"\"\"')\n",
        "    # display(Markdown(f'{i+1}. title=\"\"\"{title}\"\"\"'))\n",
        "    for search_result in top_results:\n",
        "        # print(f'{search_result}')\n",
        "        display(Markdown(f'{search_result}'))\n",
        "    print(\"-----------------\")\n",
        "\n"
      ]
    },
    {
      "cell_type": "code",
      "source": [],
      "metadata": {
        "id": "zys3m9gPt4wj"
      },
      "execution_count": null,
      "outputs": []
    }
  ]
}